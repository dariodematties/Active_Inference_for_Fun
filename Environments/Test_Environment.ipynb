{
 "cells": [
  {
   "cell_type": "code",
   "execution_count": 9,
   "id": "ff4b308b-8f66-4aaf-b436-53368eebee40",
   "metadata": {},
   "outputs": [],
   "source": [
    "from gridworld_env import GridWorld\n",
    "from ai_agent_factory import build_gridworld_agent"
   ]
  },
  {
   "cell_type": "code",
   "execution_count": 2,
   "id": "6cdaed35-a3ba-405c-be8e-0b5119f985c8",
   "metadata": {},
   "outputs": [],
   "source": [
    "env = GridWorld(n_rows=4, n_cols=5, reward_pos=(3,4), punish_pos=(0,4), start_pos=(0,0), render_mode=None)\n",
    "agent, model = build_gridworld_agent(4, 5, reward_pos=(3,4), punish_pos=(0,4), start_pos=(0,0))"
   ]
  },
  {
   "cell_type": "code",
   "execution_count": 5,
   "id": "3920d469-a843-4644-b1db-849c0fc434af",
   "metadata": {},
   "outputs": [],
   "source": [
    "obs, info = env.reset(seed=0)\n",
    "for _ in range(500):\n",
    "    # pymdp expects observation indices per modality\n",
    "    agent.infer_states([obs])\n",
    "    agent.infer_policies()\n",
    "    action = int(agent.sample_action()[0])  # single control factor\n",
    "    obs, r, term, trunc, _ = env.step(action)\n",
    "    if term or trunc: break"
   ]
  },
  {
   "cell_type": "code",
   "execution_count": null,
   "id": "e826e2a0-13ec-4266-beb3-e25b23c21339",
   "metadata": {},
   "outputs": [],
   "source": []
  },
  {
   "cell_type": "code",
   "execution_count": null,
   "id": "a04d1f55-c3fe-4c44-937e-385e0aa3ff3a",
   "metadata": {},
   "outputs": [],
   "source": []
  }
 ],
 "metadata": {
  "kernelspec": {
   "display_name": "Python 3 (ipykernel)",
   "language": "python",
   "name": "python3"
  },
  "language_info": {
   "codemirror_mode": {
    "name": "ipython",
    "version": 3
   },
   "file_extension": ".py",
   "mimetype": "text/x-python",
   "name": "python",
   "nbconvert_exporter": "python",
   "pygments_lexer": "ipython3",
   "version": "3.12.10"
  }
 },
 "nbformat": 4,
 "nbformat_minor": 5
}
